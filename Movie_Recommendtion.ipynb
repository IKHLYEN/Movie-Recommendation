{
 "cells": [
  {
   "cell_type": "code",
   "execution_count": 2,
   "metadata": {
    "id": "uMIFvBJO9bSO"
   },
   "outputs": [],
   "source": [
    "import pandas as pd\n",
    "import matplotlib.pyplot as plt\n",
    "import numpy as np"
   ]
  },
  {
   "cell_type": "code",
   "execution_count": 3,
   "metadata": {
    "id": "athGBX5TBZ8l"
   },
   "outputs": [],
   "source": [
    "import warnings\n",
    "warnings.filterwarnings('ignore')"
   ]
  },
  {
   "cell_type": "markdown",
   "metadata": {
    "id": "tAoUKlTMBwKz"
   },
   "source": [
    "why this line \"warnings.filterwarnings('ignore')\"\n",
    "- There are situations where developers are aware of certain warnings but have determined that they're not relevant or not a concern for their particular application"
   ]
  },
  {
   "cell_type": "markdown",
   "metadata": {
    "id": "sRPZlwoICpFJ"
   },
   "source": [
    "## Get the dataset\n",
    "- u.data"
   ]
  },
  {
   "cell_type": "code",
   "execution_count": null,
   "metadata": {},
   "outputs": [],
   "source": [
    "df=pd.read_csv(\"/content/u.data\",sep=\"\\t\")"
   ]
  },
  {
   "cell_type": "code",
   "execution_count": null,
   "metadata": {
    "id": "5PA0y6UJEegI"
   },
   "outputs": [],
   "source": [
    "df.head()"
   ]
  },
  {
   "cell_type": "code",
   "execution_count": null,
   "metadata": {
    "id": "RhpBAdZDEgRh"
   },
   "outputs": [],
   "source": [
    "columns_name=[\"user_id\",\"item_id\",\"rating\",\"timestamp\"]\n",
    "df=pd.read_csv(\"/content/u.data\",sep=\"\\t\",names=columns_name)"
   ]
  },
  {
   "cell_type": "code",
   "execution_count": null,
   "metadata": {
    "id": "r0u4a0wwefsN"
   },
   "outputs": [],
   "source": [
    "df.head()"
   ]
  },
  {
   "cell_type": "code",
   "execution_count": null,
   "metadata": {
    "id": "DLOlV0X0ewPa"
   },
   "outputs": [],
   "source": [
    "df.shape"
   ]
  },
  {
   "cell_type": "code",
   "execution_count": null,
   "metadata": {
    "id": "iWCKN3BofMii"
   },
   "outputs": [],
   "source": [
    "#if we wanna check how many unique user\n",
    "df[\"user_id\"].nunique()"
   ]
  },
  {
   "cell_type": "code",
   "execution_count": null,
   "metadata": {
    "id": "2qvNHbZwfjqx"
   },
   "outputs": [],
   "source": [
    "df[\"item_id\"].nunique()"
   ]
  },
  {
   "cell_type": "code",
   "execution_count": null,
   "metadata": {
    "id": "XlglourtfpWY"
   },
   "outputs": [],
   "source": [
    "df1 = pd.read_csv(\"/content/u.item\", sep='|', encoding='ISO-8859-1',header=None)"
   ]
  },
  {
   "cell_type": "code",
   "execution_count": null,
   "metadata": {
    "id": "38EIgu9PgRKB"
   },
   "outputs": [],
   "source": [
    "df1.head()"
   ]
  },
  {
   "cell_type": "code",
   "execution_count": null,
   "metadata": {
    "id": "RO8CpGzgjBN7"
   },
   "outputs": [],
   "source": [
    "df1.shape"
   ]
  },
  {
   "cell_type": "code",
   "execution_count": null,
   "metadata": {
    "id": "nm_-xiRLjDlC"
   },
   "outputs": [],
   "source": [
    "movie_titles=df1[[0,1]]\n",
    "movie_titles.head()"
   ]
  },
  {
   "cell_type": "code",
   "execution_count": null,
   "metadata": {
    "id": "7i6sh_8fkMg-"
   },
   "outputs": [],
   "source": [
    "movie_titles.columns=[\"item_id\",\"title\"]"
   ]
  },
  {
   "cell_type": "code",
   "execution_count": null,
   "metadata": {
    "id": "J7o8XwllkbPT"
   },
   "outputs": [],
   "source": [
    "movie_titles.head()"
   ]
  },
  {
   "cell_type": "code",
   "execution_count": null,
   "metadata": {
    "id": "cE5_wM2kk9CI"
   },
   "outputs": [],
   "source": [
    "df=pd.merge(df,movie_titles,on=\"item_id\")"
   ]
  },
  {
   "cell_type": "code",
   "execution_count": null,
   "metadata": {
    "id": "XvfIqAcrlHkl"
   },
   "outputs": [],
   "source": [
    "df.head()"
   ]
  },
  {
   "cell_type": "markdown",
   "metadata": {
    "id": "Q0DN8OVtlI_q"
   },
   "source": [
    "## data analysis"
   ]
  },
  {
   "cell_type": "code",
   "execution_count": null,
   "metadata": {
    "id": "0vYAcHk0lcNn"
   },
   "outputs": [],
   "source": [
    "import matplotlib.pyplot as plt\n",
    "import seaborn as sns"
   ]
  },
  {
   "cell_type": "code",
   "execution_count": null,
   "metadata": {
    "id": "9DGjFrrSl1YW"
   },
   "outputs": [],
   "source": [
    "df.groupby(\"title\").mean()[\"rating\"].sort_values(ascending=False).head()"
   ]
  },
  {
   "cell_type": "code",
   "execution_count": null,
   "metadata": {
    "id": "TGChxnhMnvuX"
   },
   "outputs": [],
   "source": [
    "df.groupby('title').count()['rating'].sort_values(ascending=False).head()"
   ]
  },
  {
   "cell_type": "code",
   "execution_count": null,
   "metadata": {
    "id": "QDc27KewojLs"
   },
   "outputs": [],
   "source": [
    "ratings=pd.DataFrame(df.groupby(\"title\").mean()[\"rating\"])"
   ]
  },
  {
   "cell_type": "code",
   "execution_count": null,
   "metadata": {
    "id": "qQwX2K9KqvG_"
   },
   "outputs": [],
   "source": [
    "ratings"
   ]
  },
  {
   "cell_type": "code",
   "execution_count": null,
   "metadata": {
    "id": "7CLukuGxqwWq"
   },
   "outputs": [],
   "source": [
    "ratings[\"number of ratings\"]=pd.DataFrame(df.groupby('title').count()['rating'])"
   ]
  },
  {
   "cell_type": "code",
   "execution_count": null,
   "metadata": {
    "id": "F1mwB7KOq-K6"
   },
   "outputs": [],
   "source": [
    "ratings"
   ]
  },
  {
   "cell_type": "code",
   "execution_count": null,
   "metadata": {
    "id": "Y6Z3Gw5dq_V3"
   },
   "outputs": [],
   "source": [
    "plt.hist(ratings[\"number of ratings\"],bins=70)\n",
    "plt.show()"
   ]
  },
  {
   "cell_type": "code",
   "execution_count": null,
   "metadata": {
    "id": "SHlXP7vms3ma"
   },
   "outputs": [],
   "source": [
    "plt.hist(ratings[\"rating\"],bins=70)\n",
    "plt.show()"
   ]
  },
  {
   "cell_type": "code",
   "execution_count": null,
   "metadata": {
    "id": "-zwgyuZUt2E4"
   },
   "outputs": [],
   "source": [
    "sns.jointplot(x=\"rating\",y=\"number of ratings\",data=ratings,alpha=0.5)"
   ]
  },
  {
   "cell_type": "markdown",
   "metadata": {
    "id": "GGL8SGY4vJGA"
   },
   "source": [
    "## Creating movie recommendation"
   ]
  },
  {
   "cell_type": "code",
   "execution_count": null,
   "metadata": {
    "id": "owQdZqG0wKpH"
   },
   "outputs": [],
   "source": [
    "df.head()"
   ]
  },
  {
   "cell_type": "code",
   "execution_count": null,
   "metadata": {
    "id": "PkQ0oqQSwMEf"
   },
   "outputs": [],
   "source": [
    "# let's create a metrix\n",
    "moviemat=df.pivot_table(index=\"user_id\",columns=\"title\",values=\"rating\")"
   ]
  },
  {
   "cell_type": "code",
   "execution_count": null,
   "metadata": {
    "id": "mUBtYASbwjft"
   },
   "outputs": [],
   "source": [
    "moviemat"
   ]
  },
  {
   "cell_type": "code",
   "execution_count": null,
   "metadata": {
    "id": "JC2yJcUe-vd4"
   },
   "outputs": [],
   "source": [
    "ratings.sort_values(\"number of ratings\",ascending=False)"
   ]
  },
  {
   "cell_type": "code",
   "execution_count": null,
   "metadata": {
    "id": "u--UjNsq_dx-"
   },
   "outputs": [],
   "source": [
    "starwars_rating=moviemat[\"Star Wars (1977)\"]"
   ]
  },
  {
   "cell_type": "code",
   "execution_count": null,
   "metadata": {
    "id": "0xpXn93tAJax"
   },
   "outputs": [],
   "source": [
    "starwars_rating"
   ]
  },
  {
   "cell_type": "code",
   "execution_count": null,
   "metadata": {
    "id": "Otww_IJdALpg"
   },
   "outputs": [],
   "source": [
    "similarToStarwars=moviemat.corrwith(starwars_rating)"
   ]
  },
  {
   "cell_type": "code",
   "execution_count": null,
   "metadata": {
    "id": "w_H2Ecr5Aj__"
   },
   "outputs": [],
   "source": [
    "similarToStarwars"
   ]
  },
  {
   "cell_type": "code",
   "execution_count": null,
   "metadata": {
    "id": "-_B1RTgDAlvW"
   },
   "outputs": [],
   "source": [
    "corr_starwars=pd.DataFrame(similarToStarwars,columns=[\"correlation\"])"
   ]
  },
  {
   "cell_type": "code",
   "execution_count": null,
   "metadata": {
    "id": "mDHUZ4KLBKcz"
   },
   "outputs": [],
   "source": [
    "corr_starwars"
   ]
  },
  {
   "cell_type": "code",
   "execution_count": null,
   "metadata": {
    "id": "8aWCX14HBO_r"
   },
   "outputs": [],
   "source": [
    "corr_starwars.dropna()"
   ]
  },
  {
   "cell_type": "code",
   "execution_count": null,
   "metadata": {
    "id": "uHP4HNH8BY4K"
   },
   "outputs": [],
   "source": [
    "corr_starwars"
   ]
  },
  {
   "cell_type": "code",
   "execution_count": null,
   "metadata": {
    "id": "jIVNXu_pBcEI"
   },
   "outputs": [],
   "source": [
    "corr_starwars.dropna(inplace=True)"
   ]
  },
  {
   "cell_type": "code",
   "execution_count": null,
   "metadata": {
    "id": "dNABBMtJBgSd"
   },
   "outputs": [],
   "source": [
    "corr_starwars"
   ]
  },
  {
   "cell_type": "code",
   "execution_count": null,
   "metadata": {
    "id": "UksR9PktBh2l"
   },
   "outputs": [],
   "source": [
    "corr_starwars.sort_values(\"correlation\",ascending=False)"
   ]
  },
  {
   "cell_type": "code",
   "execution_count": null,
   "metadata": {
    "id": "nCcLz7RRBybx"
   },
   "outputs": [],
   "source": [
    "corr_starwars=corr_starwars.join(ratings['number of ratings'])"
   ]
  },
  {
   "cell_type": "code",
   "execution_count": null,
   "metadata": {
    "id": "pe43LVN_CF8H"
   },
   "outputs": [],
   "source": [
    "corr_starwars"
   ]
  },
  {
   "cell_type": "code",
   "execution_count": null,
   "metadata": {
    "id": "5waPFX3wCGn9"
   },
   "outputs": [],
   "source": [
    "corr_starwars=corr_starwars[corr_starwars['number of ratings']>100].sort_values(\"correlation\",ascending=False)"
   ]
  },
  {
   "cell_type": "code",
   "execution_count": null,
   "metadata": {
    "id": "Rp7lHlqrCVr_"
   },
   "outputs": [],
   "source": [
    "corr_starwars"
   ]
  },
  {
   "cell_type": "markdown",
   "metadata": {
    "id": "2ZaFaIvPCWc4"
   },
   "source": [
    "check it in your navigator"
   ]
  },
  {
   "cell_type": "markdown",
   "metadata": {
    "id": "ZMmTtfBBCnPV"
   },
   "source": [
    "## Prediction"
   ]
  },
  {
   "cell_type": "code",
   "execution_count": null,
   "metadata": {
    "id": "q0Bk7hLTCsdt"
   },
   "outputs": [],
   "source": [
    "def predict(movie_name):\n",
    "  users_rating=moviemat[movie_name]\n",
    "  similar=moviemat.corrwith(users_rating)\n",
    "  similar=pd.DataFrame(similar,columns=[\"correlation\"])\n",
    "  similar.dropna(inplace=True)\n",
    "  similar=similar.join(ratings[\"number of ratings\"])\n",
    "  prediction=similar[similar[\"number of ratings\"]>100].sort_values(\"correlation\",ascending=False)\n",
    "  return prediction"
   ]
  },
  {
   "cell_type": "code",
   "execution_count": null,
   "metadata": {
    "id": "NTbaeOHvEQTO"
   },
   "outputs": [],
   "source": [
    "prediction=predict(\"Titanic (1997)\")"
   ]
  },
  {
   "cell_type": "code",
   "execution_count": null,
   "metadata": {
    "id": "y5TOIouIEWpY"
   },
   "outputs": [],
   "source": [
    "prediction.head()"
   ]
  },
  {
   "cell_type": "code",
   "execution_count": null,
   "metadata": {
    "id": "lnEgMVTYEd6V"
   },
   "outputs": [],
   "source": []
  }
 ],
 "metadata": {
  "colab": {
   "provenance": []
  },
  "kernelspec": {
   "display_name": "Python 3 (ipykernel)",
   "language": "python",
   "name": "python3"
  },
  "language_info": {
   "codemirror_mode": {
    "name": "ipython",
    "version": 3
   },
   "file_extension": ".py",
   "mimetype": "text/x-python",
   "name": "python",
   "nbconvert_exporter": "python",
   "pygments_lexer": "ipython3",
   "version": "3.10.12"
  }
 },
 "nbformat": 4,
 "nbformat_minor": 1
}
